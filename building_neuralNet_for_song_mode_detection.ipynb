{
 "cells": [
  {
   "cell_type": "code",
   "execution_count": 1,
   "metadata": {},
   "outputs": [],
   "source": [
    "import pickle\n",
    "import os\n",
    "import numpy as np\n",
    "import torch\n",
    "import torch.nn as nn\n",
    "import torch.nn.functional as F\n",
    "import torch.optim as optim\n",
    "import torchvision.transforms as transforms\n",
    "from torch.utils.data import Dataset, DataLoader"
   ]
  },
  {
   "cell_type": "code",
   "execution_count": 2,
   "metadata": {},
   "outputs": [],
   "source": [
    "# Loading data from disk\n",
    "\n",
    "spectograms_major = []\n",
    "folder_major = \"./spectogram_data/Major/\"\n",
    "for file_name in os.listdir(folder_major):\n",
    "    with open(folder_major+file_name, \"rb\") as f:\n",
    "        spec = pickle.load(f)\n",
    "    spectograms_major.append(spec)\n",
    "\n",
    "spectograms_minor = []\n",
    "folder_minor = \"./spectogram_data/Minor/\"\n",
    "for file_name in os.listdir(folder_minor):\n",
    "    with open(folder_minor+file_name, \"rb\") as f:\n",
    "        spec = pickle.load(f)\n",
    "    spectograms_minor.append(spec)"
   ]
  },
  {
   "cell_type": "code",
   "execution_count": 3,
   "metadata": {},
   "outputs": [
    {
     "data": {
      "text/plain": [
       "(1431, 370)"
      ]
     },
     "execution_count": 3,
     "metadata": {},
     "output_type": "execute_result"
    }
   ],
   "source": [
    "len(spectograms_major), len(spectograms_minor)"
   ]
  },
  {
   "cell_type": "code",
   "execution_count": 4,
   "metadata": {},
   "outputs": [],
   "source": [
    "### Creating dataset class\n",
    "##########################\n",
    "\n",
    "# The available data has far more major-mode audio samples than minor ones\n",
    "# To solve this problem, this dataset class is made to feed the model \n",
    "# alternating minor-mode and major-mode audio samples (one minor, one major, one minor, one major, ...)\n",
    "# An epoch is set to be finished after two times the number of minor-mode audio samples\n",
    "# Therefore, each epoch uses always all minor-mode samples available, but the major ones are changing between different epochs\n",
    "\n",
    "class SpectogramDataForModeRecognition(Dataset):\n",
    "    def __init__(self, spectograms_major, spectograms_minor) -> None:\n",
    "        super().__init__()\n",
    "        self.spectograms_major = spectograms_major\n",
    "        self.spectograms_minor = spectograms_minor\n",
    "        self.n = 2*min(len(spectograms_major), len(spectograms_minor))\n",
    "        self.n_major = len(spectograms_major)\n",
    "        self.n_minor = len(spectograms_minor)\n",
    "        self.next = True # False = minor, True = major\n",
    "        self.index_minor = 0\n",
    "        self.index_major = 0\n",
    "    \n",
    "    def __getitem__(self, index) -> any:\n",
    "        if self.next:\n",
    "            spec = self.spectograms_major[self.index_major]\n",
    "            self.index_major += 1\n",
    "            if self.index_major == self.n_major:\n",
    "                self.index_major = 0\n",
    "            self.next = False\n",
    "            label = np.float32(1) # 1 is Major\n",
    "        else:\n",
    "            spec = self.spectograms_minor[self.index_minor]\n",
    "            self.index_minor += 1\n",
    "            if self.index_minor == self.n_minor:\n",
    "                self.index_minor = 0\n",
    "            self.next = True\n",
    "            label = np.float32(0) # 0 is Minor\n",
    "        return torch.tensor(np.array([spec])), torch.tensor(np.array([label]))\n",
    "\n",
    "    def __len__(self):\n",
    "        return self.n"
   ]
  },
  {
   "cell_type": "code",
   "execution_count": 5,
   "metadata": {},
   "outputs": [],
   "source": [
    "### Spliting data in training and testing. Making loader objects for easyly feed the model\n",
    "##########################################################################################\n",
    "\n",
    "# shuffling the data\n",
    "np.random.shuffle(spectograms_major)\n",
    "np.random.shuffle(spectograms_minor)\n",
    "\n",
    "# making the training and testing dataset from all available data\n",
    "train_spectogram_major_end_index = int(0.8*len(spectograms_major))\n",
    "train_spectogram_minor_end_index = int(0.8*len(spectograms_minor))\n",
    "train_data = SpectogramDataForModeRecognition(\n",
    "    torch.tensor(np.array(spectograms_major[:train_spectogram_major_end_index]), dtype=torch.float32), \n",
    "    torch.tensor(np.array(spectograms_minor[:train_spectogram_minor_end_index]), dtype=torch.float32))\n",
    "test_data = SpectogramDataForModeRecognition(\n",
    "    torch.tensor(np.array(spectograms_major[train_spectogram_major_end_index:]), dtype=torch.float32), \n",
    "    torch.tensor(np.array(spectograms_minor[train_spectogram_minor_end_index:]), dtype=torch.float32))\n",
    "\n",
    "# making data loader objects\n",
    "train_loader = DataLoader(train_data, batch_size=128)\n",
    "test_loader = DataLoader(test_data, batch_size=128)"
   ]
  },
  {
   "cell_type": "code",
   "execution_count": 6,
   "metadata": {},
   "outputs": [],
   "source": [
    "### Model definition\n",
    "####################\n",
    "\n",
    "# Model feeded with a logaritmic filtered spectogram of an audio sample\n",
    "# Combination of 5x5 convolutional and 2x2 MaxPool layers with two final linear layers. \n",
    "# ReLU activation function after each layer with the exeption of a final sigmoid (0 -> minor, 1 -> major)\n",
    "\n",
    "class modeDetectionModel(nn.Module):\n",
    "    def __init__(self):\n",
    "        super().__init__()\n",
    "        self.layer1 = nn.Conv2d(1,8,5)\n",
    "        self.layer2 = nn.Conv2d(8,16,5)\n",
    "        self.layer3 = nn.MaxPool2d(2)\n",
    "        self.layer4 = nn.Conv2d(16,32,5)\n",
    "        self.layer5 = nn.Conv2d(32,64,5)\n",
    "        self.layer6 = nn.Linear(64*109*40, 64)\n",
    "        self.layer7 = nn.Linear(64,1)\n",
    "        self.relu = nn.ReLU() \n",
    "    def forward(self, x):\n",
    "        x = self.relu(self.layer1(x))\n",
    "        x = self.relu(self.layer2(x))\n",
    "        x = self.relu(self.layer3(x))\n",
    "        x = self.relu(self.layer4(x))\n",
    "        x = self.relu(self.layer5(x))\n",
    "        #print(x.size())\n",
    "        x = x.reshape(-1,64*109*40)\n",
    "        x = self.relu(self.layer6(x))\n",
    "        return F.sigmoid(self.layer7(x))\n",
    "\n",
    "# model\n",
    "net = modeDetectionModel()\n",
    "# optimizer\n",
    "opt = optim.Adam(net.parameters(), lr=1e-3)\n",
    "# loss function\n",
    "loss_fn = nn.MSELoss()\n",
    "# losses history\n",
    "losses = []\n",
    "# accuracy history\n",
    "accuracies = []\n",
    "best_accuracy = 0\n",
    "# epoch counter\n",
    "epoch = 0"
   ]
  },
  {
   "cell_type": "code",
   "execution_count": 7,
   "metadata": {},
   "outputs": [],
   "source": [
    "### Training function\n",
    "#####################\n",
    "\n",
    "def training(numberOfEpochs):\n",
    "    global epoch\n",
    "    global best_accuracy\n",
    "    for i in range(numberOfEpochs):\n",
    "        epoch += 1\n",
    "        total_correct = 0\n",
    "        total = len(train_data)\n",
    "        for specs, labels in train_loader:\n",
    "            # feeding the model\n",
    "            predictions = net(specs)\n",
    "            # training\n",
    "            loss = loss_fn(labels, predictions)\n",
    "            losses.append(loss)\n",
    "            loss.backward()\n",
    "            opt.step()\n",
    "            opt.zero_grad()\n",
    "            # computing accuracy\n",
    "            total_correct += sum(torch.abs(predictions-labels) <= 0.5)\n",
    "        # saving and printing accuracy of this epoch\n",
    "        accuracy = total_correct / total\n",
    "        accuracies.append(accuracy.item())\n",
    "        print(epoch, total_correct/total)\n",
    "        # saving the model if it is the best one or if it has > 0.90 accuracy\n",
    "        #if accuracy > 0.9:\n",
    "            #torch.save(net, f'./models/epoch{epoch}.pkl')\n",
    "        if accuracy > best_accuracy:\n",
    "            torch.save(net, f'./models/best.pkl')\n",
    "            best_accuracy = accuracy"
   ]
  },
  {
   "cell_type": "code",
   "execution_count": 26,
   "metadata": {},
   "outputs": [
    {
     "name": "stdout",
     "output_type": "stream",
     "text": [
      "37 tensor([0.9932])\n",
      "38 tensor([0.9882])\n"
     ]
    }
   ],
   "source": [
    "# This cell has been run several times for training the model\n",
    "\n",
    "training(2)"
   ]
  },
  {
   "cell_type": "code",
   "execution_count": 39,
   "metadata": {},
   "outputs": [
    {
     "data": {
      "text/plain": [
       "tensor([0.9949])"
      ]
     },
     "execution_count": 39,
     "metadata": {},
     "output_type": "execute_result"
    }
   ],
   "source": [
    "best_accuracy"
   ]
  },
  {
   "cell_type": "code",
   "execution_count": 38,
   "metadata": {},
   "outputs": [
    {
     "name": "stdout",
     "output_type": "stream",
     "text": [
      "tensor([0.7230])\n"
     ]
    }
   ],
   "source": [
    "### Testing models with test data\n",
    "#################################\n",
    "\n",
    "net_loaded = torch.load('./models/best.pkl')\n",
    "total_correct = 0\n",
    "total = len(test_data)\n",
    "for specs, labels in test_loader:\n",
    "    # feeding the model\n",
    "    predictions = net_loaded(specs)\n",
    "    # computing accuracy\n",
    "    total_correct += sum(torch.abs(predictions-labels) <= 0.5)\n",
    "# printing accuracy\n",
    "print(total_correct/total)"
   ]
  }
 ],
 "metadata": {
  "kernelspec": {
   "display_name": "Python 3",
   "language": "python",
   "name": "python3"
  },
  "language_info": {
   "codemirror_mode": {
    "name": "ipython",
    "version": 3
   },
   "file_extension": ".py",
   "mimetype": "text/x-python",
   "name": "python",
   "nbconvert_exporter": "python",
   "pygments_lexer": "ipython3",
   "version": "3.11.2"
  },
  "orig_nbformat": 4
 },
 "nbformat": 4,
 "nbformat_minor": 2
}
